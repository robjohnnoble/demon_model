{
 "cells": [
  {
   "cell_type": "markdown",
   "metadata": {},
   "source": [
    "# Example 2\n",
    "This notebook's cells will run a small-scale simulation of methdemon for a cancer without spatial organisation. The methylation arrays shown in the plots are sampled at different timepoints in the cancer's evolution. This simulation will generate an output file (`demes.dat`) which can be quite large depending on the chosen parameters. For example, try tweaking the methylation rate parameters or population size."
   ]
  },
  {
   "cell_type": "code",
   "execution_count": null,
   "metadata": {},
   "outputs": [],
   "source": [
    "import numpy as np\n",
    "import matplotlib.pyplot as plt\n",
    "import pandas as pd"
   ]
  },
  {
   "cell_type": "code",
   "execution_count": null,
   "metadata": {},
   "outputs": [],
   "source": [
    "# Define relative paths to output files\n",
    "outputs_path = 'outputs/'\n",
    "demes_file = 'demes.dat'"
   ]
  },
  {
   "cell_type": "code",
   "execution_count": null,
   "metadata": {},
   "outputs": [],
   "source": [
    "# Uncomment the below three lines and run if methdemon has not been compiled yet\n",
    "# NOTE: Change the path to the include directory of your boost installation\n",
    "\n",
    "#!cd ../../src\n",
    "#!g++ -o methdemon methdemon.cpp -I/usr/local/include/ -lm  \n",
    "#!cd ../examples/eg1"
   ]
  },
  {
   "cell_type": "code",
   "execution_count": null,
   "metadata": {},
   "outputs": [],
   "source": [
    "%%capture\n",
    "# Run the example simulation\n",
    "!../../src/methdemon ./outputs configfile-eg2.dat"
   ]
  },
  {
   "cell_type": "code",
   "execution_count": null,
   "metadata": {},
   "outputs": [],
   "source": [
    "# Read in the output files\n",
    "demes = pd.read_csv(outputs_path + demes_file, sep='\\t')\n",
    "demes.head()"
   ]
  },
  {
   "cell_type": "code",
   "execution_count": null,
   "metadata": {},
   "outputs": [],
   "source": [
    "# Define 5 generations at which to plot the methylation array of the cancer\n",
    "first_gen = demes['Generation'].min()\n",
    "last_gen = demes['Generation'].max() # t = T"
   ]
  },
  {
   "cell_type": "code",
   "execution_count": null,
   "metadata": {},
   "outputs": [],
   "source": [
    "# Obtain the methylation arrays of the cancer at the start and end times \n",
    "first_gen_meth = demes[demes['Generation'] == first_gen]['AvgMethArray'].apply(lambda x: [float(i) for i in x.split()])\n",
    "last_gen_meth = demes[demes['Generation'] == last_gen]['AvgMethArray'].apply(lambda x: [float(i) for i in x.split()])\n",
    "\n",
    "# Half-way generation's index\n",
    "half_gen = demes[demes['Generation'] == demes['Generation'][int(len(demes.Generation)/2)]]['AvgMethArray'].apply(lambda x: [float(i) for i in x.split()])"
   ]
  },
  {
   "cell_type": "code",
   "execution_count": null,
   "metadata": {},
   "outputs": [],
   "source": [
    "# Plot methylation array histograms on a single figure\n",
    "plt.figure(figsize=(10, 5))\n",
    "plt.hist(first_gen_meth, bins=100, alpha=0.5, label='Initial average array')\n",
    "plt.hist(half_gen, bins=100, alpha=0.5, label='Halfway through growth')\n",
    "plt.hist(last_gen_meth, bins=100, alpha=0.5, label='Final average array')\n",
    "plt.legend(loc='upper right')"
   ]
  },
  {
   "cell_type": "code",
   "execution_count": null,
   "metadata": {},
   "outputs": [],
   "source": []
  }
 ],
 "metadata": {
  "kernelspec": {
   "display_name": "methdemon_examples",
   "language": "python",
   "name": "python3"
  },
  "language_info": {
   "codemirror_mode": {
    "name": "ipython",
    "version": 3
   },
   "file_extension": ".py",
   "mimetype": "text/x-python",
   "name": "python",
   "nbconvert_exporter": "python",
   "pygments_lexer": "ipython3",
   "version": "3.11.4"
  },
  "orig_nbformat": 4
 },
 "nbformat": 4,
 "nbformat_minor": 2
}
