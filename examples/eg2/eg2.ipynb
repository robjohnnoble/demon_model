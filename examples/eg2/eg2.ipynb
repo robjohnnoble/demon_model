{
 "cells": [
  {
   "cell_type": "markdown",
   "metadata": {},
   "source": [
    "# Example 2\n",
    "This notebook's cells will run a small-scale simulation of methdemon for a cancer without spatial organisation. The methylation arrays shown in the plots are sampled at different timepoints in the cancer's evolution. This simulation will generate an output file (`demes.dat`) which can be quite large depending on the chosen parameters. For example, try tweaking the methylation rate parameters or population size."
   ]
  },
  {
   "cell_type": "code",
   "execution_count": 1,
   "metadata": {},
   "outputs": [],
   "source": [
    "import numpy as np\n",
    "import matplotlib.pyplot as plt\n",
    "import pandas as pd"
   ]
  },
  {
   "cell_type": "code",
   "execution_count": 2,
   "metadata": {},
   "outputs": [],
   "source": [
    "# Define relative paths to output files\n",
    "outputs_path = 'outputs/'\n",
    "demes_file = 'demes.dat'"
   ]
  },
  {
   "cell_type": "code",
   "execution_count": 3,
   "metadata": {},
   "outputs": [],
   "source": [
    "# Uncomment the below three lines and run if methdemon has not been compiled yet\n",
    "# NOTE: Change the path to the include directory of your boost installation\n",
    "\n",
    "#!cd ../../src\n",
    "#!g++ -o methdemon methdemon.cpp -I/usr/local/include/ -lm  \n",
    "#!cd ../examples/eg1"
   ]
  },
  {
   "cell_type": "code",
   "execution_count": 4,
   "metadata": {},
   "outputs": [],
   "source": [
    "%%capture\n",
    "# Run the example simulation\n",
    "!../../src/methdemon ./outputs configfile-eg2.dat"
   ]
  },
  {
   "cell_type": "code",
   "execution_count": 5,
   "metadata": {},
   "outputs": [
    {
     "data": {
      "text/html": [
       "<div>\n",
       "<style scoped>\n",
       "    .dataframe tbody tr th:only-of-type {\n",
       "        vertical-align: middle;\n",
       "    }\n",
       "\n",
       "    .dataframe tbody tr th {\n",
       "        vertical-align: top;\n",
       "    }\n",
       "\n",
       "    .dataframe thead th {\n",
       "        text-align: right;\n",
       "    }\n",
       "</style>\n",
       "<table border=\"1\" class=\"dataframe\">\n",
       "  <thead>\n",
       "    <tr style=\"text-align: right;\">\n",
       "      <th></th>\n",
       "      <th>Generation</th>\n",
       "      <th>X</th>\n",
       "      <th>Y</th>\n",
       "      <th>Population</th>\n",
       "      <th>NormalCells</th>\n",
       "      <th>DeathRate</th>\n",
       "      <th>Diversity</th>\n",
       "      <th>DriverDiversity</th>\n",
       "      <th>AvgMethArray</th>\n",
       "    </tr>\n",
       "  </thead>\n",
       "  <tbody>\n",
       "    <tr>\n",
       "      <th>0</th>\n",
       "      <td>0.000000</td>\n",
       "      <td>0</td>\n",
       "      <td>0</td>\n",
       "      <td>1</td>\n",
       "      <td>131071</td>\n",
       "      <td>0.0</td>\n",
       "      <td>0.0</td>\n",
       "      <td>0.0</td>\n",
       "      <td>0.00 1.00 1.00 0.50 1.00 1.00 0.50 0.00 0.50 0...</td>\n",
       "    </tr>\n",
       "    <tr>\n",
       "      <th>1</th>\n",
       "      <td>10.000140</td>\n",
       "      <td>0</td>\n",
       "      <td>0</td>\n",
       "      <td>36</td>\n",
       "      <td>131037</td>\n",
       "      <td>100.0</td>\n",
       "      <td>0.0</td>\n",
       "      <td>0.0</td>\n",
       "      <td>0.00 0.96 1.00 0.50 1.00 1.00 0.50 0.24 0.50 0...</td>\n",
       "    </tr>\n",
       "    <tr>\n",
       "      <th>2</th>\n",
       "      <td>20.000227</td>\n",
       "      <td>0</td>\n",
       "      <td>0</td>\n",
       "      <td>101</td>\n",
       "      <td>130972</td>\n",
       "      <td>100.0</td>\n",
       "      <td>0.0</td>\n",
       "      <td>0.0</td>\n",
       "      <td>0.00 0.92 0.96 0.51 1.00 0.99 0.62 0.02 0.50 0...</td>\n",
       "    </tr>\n",
       "    <tr>\n",
       "      <th>3</th>\n",
       "      <td>30.000267</td>\n",
       "      <td>0</td>\n",
       "      <td>0</td>\n",
       "      <td>286</td>\n",
       "      <td>130787</td>\n",
       "      <td>100.0</td>\n",
       "      <td>0.0</td>\n",
       "      <td>0.0</td>\n",
       "      <td>0.02 0.90 0.99 0.53 1.00 0.98 0.62 0.02 0.50 0...</td>\n",
       "    </tr>\n",
       "    <tr>\n",
       "      <th>4</th>\n",
       "      <td>40.000362</td>\n",
       "      <td>0</td>\n",
       "      <td>0</td>\n",
       "      <td>617</td>\n",
       "      <td>130456</td>\n",
       "      <td>100.0</td>\n",
       "      <td>0.0</td>\n",
       "      <td>0.0</td>\n",
       "      <td>0.05 0.90 1.00 0.55 0.99 1.00 0.56 0.07 0.50 0...</td>\n",
       "    </tr>\n",
       "  </tbody>\n",
       "</table>\n",
       "</div>"
      ],
      "text/plain": [
       "   Generation  X  Y  Population  NormalCells  DeathRate  Diversity  \\\n",
       "0    0.000000  0  0           1       131071        0.0        0.0   \n",
       "1   10.000140  0  0          36       131037      100.0        0.0   \n",
       "2   20.000227  0  0         101       130972      100.0        0.0   \n",
       "3   30.000267  0  0         286       130787      100.0        0.0   \n",
       "4   40.000362  0  0         617       130456      100.0        0.0   \n",
       "\n",
       "   DriverDiversity                                       AvgMethArray  \n",
       "0              0.0  0.00 1.00 1.00 0.50 1.00 1.00 0.50 0.00 0.50 0...  \n",
       "1              0.0  0.00 0.96 1.00 0.50 1.00 1.00 0.50 0.24 0.50 0...  \n",
       "2              0.0  0.00 0.92 0.96 0.51 1.00 0.99 0.62 0.02 0.50 0...  \n",
       "3              0.0  0.02 0.90 0.99 0.53 1.00 0.98 0.62 0.02 0.50 0...  \n",
       "4              0.0  0.05 0.90 1.00 0.55 0.99 1.00 0.56 0.07 0.50 0...  "
      ]
     },
     "execution_count": 5,
     "metadata": {},
     "output_type": "execute_result"
    }
   ],
   "source": [
    "# Read in the output files\n",
    "demes = pd.read_csv(outputs_path + demes_file, sep='\\t')\n",
    "demes.head()"
   ]
  },
  {
   "cell_type": "code",
   "execution_count": 6,
   "metadata": {},
   "outputs": [],
   "source": [
    "# Define 5 generations at which to plot the methylation array of the cancer\n",
    "first_gen = demes['Generation'].min()\n",
    "last_gen = demes['Generation'].max() # t = T"
   ]
  },
  {
   "cell_type": "code",
   "execution_count": 7,
   "metadata": {},
   "outputs": [],
   "source": [
    "# Obtain the methylation arrays of the cancer at the start and end times \n",
    "first_gen_meth = demes[demes['Generation'] == first_gen]['AvgMethArray'].apply(lambda x: [float(i) for i in x.split()])\n",
    "last_gen_meth = demes[demes['Generation'] == last_gen]['AvgMethArray'].apply(lambda x: [float(i) for i in x.split()])\n",
    "\n",
    "# Half-way generation's index\n",
    "half_gen = demes[demes['Generation'] == demes['Generation'][int(len(demes.Generation)/2)]]['AvgMethArray'].apply(lambda x: [float(i) for i in x.split()])"
   ]
  },
  {
   "cell_type": "code",
   "execution_count": 8,
   "metadata": {},
   "outputs": [
    {
     "data": {
      "text/plain": [
       "<matplotlib.legend.Legend at 0x127d33950>"
      ]
     },
     "execution_count": 8,
     "metadata": {},
     "output_type": "execute_result"
    },
    {
     "data": {
      "image/png": "[encoded data removed]",
      "text/plain": [
       "<Figure size 1000x500 with 1 Axes>"
      ]
     },
     "metadata": {},
     "output_type": "display_data"
    }
   ],
   "source": [
    "# Plot methylation array histograms on a single figure\n",
    "plt.figure(figsize=(10, 5))\n",
    "plt.hist(first_gen_meth, bins=100, alpha=0.5, label='Generation 0')\n",
    "plt.hist(half_gen, bins=100, alpha=0.5, label='Generation 16')\n",
    "plt.hist(last_gen_meth, bins=100, alpha=0.5, label='Generation 32')\n",
    "plt.legend(loc='upper right')"
   ]
  },
  {
   "cell_type": "code",
   "execution_count": null,
   "metadata": {},
   "outputs": [],
   "source": []
  }
 ],
 "metadata": {
  "kernelspec": {
   "display_name": "methdemon_examples",
   "language": "python",
   "name": "python3"
  },
  "language_info": {
   "codemirror_mode": {
    "name": "ipython",
    "version": 3
   },
   "file_extension": ".py",
   "mimetype": "text/x-python",
   "name": "python",
   "nbconvert_exporter": "python",
   "pygments_lexer": "ipython3",
   "version": "3.11.4"
  },
  "orig_nbformat": 4
 },
 "nbformat": 4,
 "nbformat_minor": 2
}
