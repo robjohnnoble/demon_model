{
 "cells": [
  {
   "cell_type": "code",
   "execution_count": null,
   "metadata": {},
   "outputs": [],
   "source": [
    "import pandas as pd\n",
    "import numpy as np\n",
    "import matplotlib.pyplot as plt\n",
    "import seaborn as sns"
   ]
  },
  {
   "cell_type": "code",
   "execution_count": null,
   "metadata": {},
   "outputs": [],
   "source": [
    "def load_demes(path_to_data):\n",
    "    \"\"\"\n",
    "    Load the data from the specified path, read the csv file, \n",
    "    and convert the 'AverageArray' column into lists of floats.\n",
    "\n",
    "    Parameters:\n",
    "    path_to_data (str): The path to the data file.\n",
    "\n",
    "    Returns:\n",
    "    pandas.DataFrame: DataFrame with 'AverageArray' column converted to lists of floats.\n",
    "    \"\"\"\n",
    "\n",
    "    # Read the CSV file\n",
    "    df = pd.read_csv(path_to_data, sep='\\t', header=0)\n",
    "\n",
    "    # Convert 'AverageArray' column into lists of floats\n",
    "    df['AverageArray'] = df['AverageArray'].apply(lambda x: np.fromstring(x, sep=' '))\n",
    "\n",
    "    return df\n"
   ]
  },
  {
   "cell_type": "code",
   "execution_count": null,
   "metadata": {},
   "outputs": [],
   "source": [
    "def separate_by_generation(df):\n",
    "    \"\"\"\n",
    "    Separate the DataFrame by generation and return a dictionary \n",
    "    with generations as keys and corresponding DataFrames as values.\n",
    "\n",
    "    Parameters:\n",
    "    df (pandas.DataFrame): The input DataFrame.\n",
    "\n",
    "    Returns:\n",
    "    dict: Dictionary with generations as keys and DataFrames as values.\n",
    "    \"\"\"\n",
    "    generation_dict = {}\n",
    "    for generation in df['Generation'].unique():\n",
    "        generation_dict[generation] = df[df['Generation'] == generation]\n",
    "    \n",
    "    return generation_dict\n"
   ]
  },
  {
   "cell_type": "code",
   "execution_count": null,
   "metadata": {},
   "outputs": [],
   "source": [
    "example_number = '2'\n",
    "path_to_data = 'eg' + example_number + '/final_demes.txt'\n",
    "df = load_demes(path_to_data)\n"
   ]
  },
  {
   "cell_type": "code",
   "execution_count": null,
   "metadata": {},
   "outputs": [],
   "source": [
    "gen_dict = separate_by_generation(df)\n"
   ]
  },
  {
   "cell_type": "code",
   "execution_count": null,
   "metadata": {},
   "outputs": [],
   "source": [
    "def plot_for_generation(generation_dict, generation):\n",
    "    \"\"\"\n",
    "    Generate plots for a specified generation. This includes histograms for each deme, \n",
    "    scatter plots above the diagonal, and 2D histograms below the diagonal in the grid.\n",
    "\n",
    "    Parameters:\n",
    "    generation_dict (dict): Dictionary with generations as keys and DataFrames as values.\n",
    "    generation (float): The specific generation to plot.\n",
    "    \"\"\"\n",
    "    df = generation_dict[generation]\n",
    "\n",
    "    # Separate by side\n",
    "    for side in df['Side'].unique():\n",
    "        side_df = df[df['Side'] == side]\n",
    "\n",
    "        # Get unique demes\n",
    "        demes = side_df['Deme'].unique()\n",
    "        num_demes = len(demes)\n",
    "\n",
    "        # Create a grid of plots\n",
    "        fig, axs = plt.subplots(num_demes, num_demes, figsize=(15, 15))\n",
    "\n",
    "        # Adjust for cases with a single deme\n",
    "        if num_demes == 1:\n",
    "            axs = np.array([[axs]])\n",
    "\n",
    "        # Iterate over each pair of demes\n",
    "        for i in range(num_demes):\n",
    "            for j in range(num_demes):\n",
    "                ax = axs[i, j]\n",
    "\n",
    "                if i == j:  # Diagonal: Histograms\n",
    "                    deme_df = side_df[side_df['Deme'] == demes[i]]\n",
    "                    data = deme_df.drop(columns=['Generation', 'Deme', 'Side', 'Population']).values.flatten()\n",
    "                    ax.hist(data, bins=30, color='skyblue', edgecolor='black')\n",
    "                    ax.set_title(f'Gen {generation}, Side {side}, Deme {demes[i]}')\n",
    "                elif i < j:  # Upper Triangle: Scatter plots\n",
    "                    deme_df_i = side_df[side_df['Deme'] == demes[i]]\n",
    "                    deme_df_j = side_df[side_df['Deme'] == demes[j]]\n",
    "                    ax.scatter(deme_df_i.iloc[:, 4:].values.flatten(), deme_df_j.iloc[:, 4:].values.flatten(), alpha=0.5)\n",
    "                    ax.set_title(f'Scatter: Deme {demes[i]} vs Deme {demes[j]}')\n",
    "                else:       # Lower Triangle: 2D Histograms\n",
    "                    deme_df_i = side_df[side_df['Deme'] == demes[i]]\n",
    "                    deme_df_j = side_df[side_df['Deme'] == demes[j]]\n",
    "                    ax.hist2d(deme_df_i.iloc[:, 4:].values.flatten(), deme_df_j.iloc[:, 4:].values.flatten(), bins=30, cmap='Blues')\n",
    "                    ax.set_title(f'Hist2D: Deme {demes[i]} vs Deme {demes[j]}')\n",
    "\n",
    "        plt.tight_layout()\n",
    "        plt.show()\n"
   ]
  },
  {
   "cell_type": "code",
   "execution_count": null,
   "metadata": {},
   "outputs": [],
   "source": [
    "def create_deme_side_dataframe(df):\n",
    "    \"\"\"\n",
    "    Create a new DataFrame where columns are grouped by side, \n",
    "    and each column corresponds to a unique deme within each side.\n",
    "    Each row in these columns contains one value from the respective 'AverageArray'.\n",
    "\n",
    "    Parameters:\n",
    "    df (pandas.DataFrame): The input DataFrame with 'AverageArray' as lists.\n",
    "\n",
    "    Returns:\n",
    "    pandas.DataFrame: New DataFrame with separate columns for each deme, grouped by side.\n",
    "    \"\"\"\n",
    "    # Create a dictionary to hold the data, grouped by side\n",
    "    data = {}\n",
    "\n",
    "    # Iterate through each row in the DataFrame\n",
    "    for _, row in df.iterrows():\n",
    "        # Create a key for each unique combination of deme and side\n",
    "        side = row['Side']\n",
    "        deme_key = f\"{row['Deme']}\"\n",
    "\n",
    "        # Initialize the side group if not already present\n",
    "        if side not in data:\n",
    "            data[side] = {}\n",
    "\n",
    "        # Append the data to the corresponding key in the side group\n",
    "        if deme_key not in data[side]:\n",
    "            data[side][deme_key] = []\n",
    "        data[side][deme_key].extend(row['AverageArray'])\n",
    "\n",
    "    # Convert the dictionary to a DataFrame, with columns grouped by side\n",
    "    reshaped_data = {}\n",
    "    for side, demes in data.items():\n",
    "        for deme, values in demes.items():\n",
    "            column_name = f\"{side}_{deme}\"\n",
    "            reshaped_data[column_name] = pd.Series(values)\n",
    "\n",
    "    reshaped_df = pd.DataFrame(reshaped_data)\n",
    "\n",
    "    return reshaped_df\n"
   ]
  },
  {
   "cell_type": "code",
   "execution_count": null,
   "metadata": {},
   "outputs": [],
   "source": [
    "gen_dict.keys()"
   ]
  },
  {
   "cell_type": "code",
   "execution_count": null,
   "metadata": {},
   "outputs": [],
   "source": [
    "new_df = create_deme_side_dataframe(gen_dict[60])"
   ]
  },
  {
   "cell_type": "code",
   "execution_count": null,
   "metadata": {},
   "outputs": [],
   "source": [
    "def plot_deme_side_data(df):\n",
    "    # Get the number of demes (columns)\n",
    "    demes = df.columns\n",
    "    num_demes = len(demes)\n",
    "\n",
    "    # Create a grid of plots\n",
    "    fig, axs = plt.subplots(num_demes, num_demes, figsize=(15, 15))\n",
    "\n",
    "    # Adjust for cases with a single deme\n",
    "    if num_demes == 1:\n",
    "        axs = np.array([[axs]])\n",
    "\n",
    "    # Iterate over each pair of demes\n",
    "    for i in range(num_demes):\n",
    "        for j in range(num_demes):\n",
    "            ax = axs[i, j]\n",
    "\n",
    "            if i == j:  # Diagonal: Histograms for individual demes\n",
    "                ax.hist(df[demes[i]].dropna(), bins=30, color='skyblue', edgecolor='black')\n",
    "                ax.set_title(f'Histogram: {demes[i]}')\n",
    "            elif i < j:  # Upper Triangle: Scatter plots\n",
    "                ax.scatter(df[demes[i]], df[demes[j]], alpha=0.5)\n",
    "                ax.set_title(f'Scatter: {demes[i]} vs {demes[j]}')\n",
    "            else:       # Lower Triangle: 2D Histograms\n",
    "                ax.hist2d(df[demes[i]].dropna(), df[demes[j]].dropna(), bins=30, cmap='Blues')\n",
    "                ax.set_title(f'Hist2D: {demes[i]} vs {demes[j]}')\n",
    "\n",
    "            ax.set_xlabel(demes[i])\n",
    "            ax.set_ylabel(demes[j])\n",
    "\n",
    "    plt.tight_layout()\n",
    "    plt.show()\n"
   ]
  },
  {
   "cell_type": "code",
   "execution_count": null,
   "metadata": {},
   "outputs": [],
   "source": [
    "plot_deme_side_data(new_df)"
   ]
  },
  {
   "cell_type": "code",
   "execution_count": null,
   "metadata": {},
   "outputs": [],
   "source": [
    "def gland_distance(gland1, gland2):\n",
    "    \"\"\"\n",
    "    Calculate a hybrid Manhattan-like distance between two glands.\n",
    "\n",
    "    :param gland1: Array-like, values for the first gland.\n",
    "    :param gland2: Array-like, values for the second gland.\n",
    "    :return: Float, the calculated hybrid Manhattan distance.\n",
    "    \"\"\"\n",
    "    # Calculate absolute differences\n",
    "    differences = np.abs(np.array(gland1) - np.array(gland2))\n",
    "\n",
    "    # Define buckets and scale contributions\n",
    "    # Adjust these thresholds and scales as needed\n",
    "    buckets = [(0, 0.25, 0.1), (0.25, 0.5, 0.3), (0.5, 0.75, 0.7), (0.75, 1.0, 1.0)]\n",
    "    \n",
    "    # Initialize distance\n",
    "    distance = 0\n",
    "    # Apply bucket scaling\n",
    "    for lower, upper, scale in buckets:\n",
    "        mask = (differences >= lower) & (differences < upper)\n",
    "        distance += np.sum(differences[mask] * scale)\n",
    "\n",
    "    # Normalize by the number of sites\n",
    "    total_distance = distance / len(differences)\n",
    "\n",
    "    return total_distance\n"
   ]
  },
  {
   "cell_type": "code",
   "execution_count": null,
   "metadata": {},
   "outputs": [],
   "source": [
    "def compute_distance_matrix(df):\n",
    "    num_glands = df.shape[1]\n",
    "    distance_matrix = np.zeros((num_glands, num_glands))\n",
    "\n",
    "    # Compute the distance for each pair of glands\n",
    "    for i in range(num_glands):\n",
    "        for j in range(num_glands):\n",
    "            distance_matrix[i, j] = gland_distance(df.iloc[:, i], df.iloc[:, j])\n",
    "\n",
    "    return distance_matrix\n"
   ]
  },
  {
   "cell_type": "code",
   "execution_count": null,
   "metadata": {},
   "outputs": [],
   "source": [
    "distance_matrix = compute_distance_matrix(new_df)"
   ]
  },
  {
   "cell_type": "code",
   "execution_count": null,
   "metadata": {},
   "outputs": [],
   "source": [
    "# Plotting the heatmap with gland names as labels\n",
    "plt.figure(figsize=(12, 10))\n",
    "sns.heatmap(distance_matrix, annot=True, cmap='coolwarm', xticklabels=new_df.columns, yticklabels=new_df.columns)\n",
    "plt.title(\"Heatmap of Distances Between Glands\")\n",
    "plt.xlabel(\"Gland\")\n",
    "plt.ylabel(\"Gland\")\n",
    "plt.show()\n"
   ]
  },
  {
   "cell_type": "code",
   "execution_count": null,
   "metadata": {},
   "outputs": [],
   "source": []
  }
 ],
 "metadata": {
  "kernelspec": {
   "display_name": "methabc",
   "language": "python",
   "name": "python3"
  },
  "language_info": {
   "codemirror_mode": {
    "name": "ipython",
    "version": 3
   },
   "file_extension": ".py",
   "mimetype": "text/x-python",
   "name": "python",
   "nbconvert_exporter": "python",
   "pygments_lexer": "ipython3",
   "version": "3.10.4"
  }
 },
 "nbformat": 4,
 "nbformat_minor": 2
}
