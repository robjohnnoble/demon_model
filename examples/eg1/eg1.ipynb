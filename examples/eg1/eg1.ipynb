{
 "cells": [
  {
   "cell_type": "markdown",
   "metadata": {},
   "source": [
    "# Example 1\n",
    "This notebook's cells will run a small-scale simulation of methdemon for a tumour evolving via gland fission and visualise the methylation arrays of the glands."
   ]
  },
  {
   "cell_type": "code",
   "execution_count": null,
   "metadata": {},
   "outputs": [],
   "source": [
    "import numpy as np\n",
    "import matplotlib.pyplot as plt\n",
    "import pandas as pd\n",
    "import seaborn as sns"
   ]
  },
  {
   "cell_type": "code",
   "execution_count": null,
   "metadata": {},
   "outputs": [],
   "source": [
    "# Define relative paths to output files\n",
    "outputs_path = 'outputs/'\n",
    "methylation_file = 'output_methylation_arrays.dat'\n",
    "demes_file = 'output_deme_methylation.dat'"
   ]
  },
  {
   "cell_type": "code",
   "execution_count": null,
   "metadata": {},
   "outputs": [],
   "source": [
    "# Uncomment the below three lines and run if methdemon has not been compiled yet\n",
    "# NOTE: Change the path to the include directory of your boost installation\n",
    "\n",
    "#!cd ../../src\n",
    "#!g++ -o methdemon methdemon.cpp -I/usr/local/include/ -lm  \n",
    "#!cd ../examples/eg1"
   ]
  },
  {
   "cell_type": "code",
   "execution_count": null,
   "metadata": {},
   "outputs": [],
   "source": [
    "# Run the example simulation\n",
    "!../../src/methdemon ./outputs configfile-eg1.dat"
   ]
  },
  {
   "cell_type": "code",
   "execution_count": null,
   "metadata": {},
   "outputs": [],
   "source": [
    "# Read in the output files\n",
    "methylation = pd.read_csv(outputs_path + methylation_file, sep='\\t')\n",
    "demes = pd.read_csv(outputs_path + demes_file, sep='\\t')\n",
    "carrying_capacity = demes.Population.max()\n",
    "filled_demes = demes[demes['Population'] == carrying_capacity]\n",
    "filled_demes.head()"
   ]
  },
  {
   "cell_type": "code",
   "execution_count": null,
   "metadata": {},
   "outputs": [],
   "source": [
    "# Separate the demes methylation array strings into lists of floats\n",
    "deme_arrays = filled_demes.AverageArray.apply(lambda x: [float(i) for i in x.split()])"
   ]
  },
  {
   "cell_type": "code",
   "execution_count": null,
   "metadata": {},
   "outputs": [],
   "source": [
    "# Plot a randomly selected deme's methylation array\n",
    "# Randomly select deme to plot\n",
    "deme = np.random.randint(0, len(deme_arrays))\n",
    "# Plot the deme's methylation histogram\n",
    "plt.hist(deme_arrays.iloc[deme], bins=50)\n",
    "plt.title('Deme ' + str(deme) + ' methylation array')"
   ]
  },
  {
   "cell_type": "code",
   "execution_count": null,
   "metadata": {},
   "outputs": [],
   "source": [
    "# Set origin coordinates in the middle of the tumour\n",
    "xorigin = filled_demes.X.median()\n",
    "yorigin = filled_demes.Y.median()"
   ]
  },
  {
   "cell_type": "code",
   "execution_count": null,
   "metadata": {},
   "outputs": [],
   "source": [
    "# Separate tumour into left and right sides\n",
    "left_glands = filled_demes[filled_demes['X'] < xorigin].sort_values(by='Y')\n",
    "right_glands = filled_demes[filled_demes['X'] >= yorigin].sort_values(by='Y')"
   ]
  },
  {
   "cell_type": "code",
   "execution_count": null,
   "metadata": {},
   "outputs": [],
   "source": [
    "def select4(glands):\n",
    "    mid = len(glands) // 2\n",
    "    if len(glands) % 2 == 0:\n",
    "        return pd.concat([glands.iloc[mid-2 : mid], glands.iloc[mid : mid+2]])\n",
    "    else:\n",
    "        return pd.concat([glands.iloc[mid-2 : mid], glands.iloc[mid+1 : mid+3]])"
   ]
  },
  {
   "cell_type": "code",
   "execution_count": null,
   "metadata": {},
   "outputs": [],
   "source": [
    "left_selection = select4(left_glands)\n",
    "right_selection = select4(right_glands)"
   ]
  },
  {
   "cell_type": "code",
   "execution_count": null,
   "metadata": {},
   "outputs": [],
   "source": [
    "left_arrays = left_selection.AverageArray.apply(lambda x: [float(i) for i in x.split()])\n",
    "right_arrays = right_selection.AverageArray.apply(lambda x: [float(i) for i in x.split()])"
   ]
  },
  {
   "cell_type": "code",
   "execution_count": null,
   "metadata": {},
   "outputs": [],
   "source": [
    "# Plot the methylation arrays of the selected demes on the same histogram with left glands being in a blue colour palette and right glands in orange\n",
    "plt.figure(figsize=(10, 5))\n",
    "for i in range(len(left_arrays)):\n",
    "    plt.hist(left_arrays.iloc[i], bins=50, color='blue', alpha=0.5)\n",
    "    plt.hist(right_arrays.iloc[i], bins=50, color='orange', alpha=0.5)"
   ]
  },
  {
   "cell_type": "code",
   "execution_count": null,
   "metadata": {},
   "outputs": [],
   "source": [
    "left_arrays = left_arrays.reset_index(drop=True)\n",
    "right_arrays = right_arrays.reset_index(drop=True)\n",
    "all_samples = pd.concat([left_arrays, right_arrays], axis=0)"
   ]
  },
  {
   "cell_type": "code",
   "execution_count": null,
   "metadata": {},
   "outputs": [],
   "source": [
    "# Correlation plots for each two sampled demes\n",
    "\n",
    "num_samples = 8\n",
    "fig, axes = plt.subplots(num_samples, num_samples, figsize=(15, 15))\n",
    "\n",
    "for i in range(num_samples):\n",
    "    for j in range(num_samples):\n",
    "        if j > i:  # We only plot above the diagonal\n",
    "            sns.scatterplot(data=all_samples, x=all_samples.iloc[i], y=all_samples.iloc[j], ax=axes[i, j])\n",
    "        else:\n",
    "            axes[i, j].set_axis_off()  # Turn off axes for other plots\n",
    "\n",
    "plt.tight_layout()\n",
    "plt.show()"
   ]
  }
 ],
 "metadata": {
  "kernelspec": {
   "display_name": "methdemon_examples",
   "language": "python",
   "name": "python3"
  },
  "language_info": {
   "codemirror_mode": {
    "name": "ipython",
    "version": 3
   },
   "file_extension": ".py",
   "mimetype": "text/x-python",
   "name": "python",
   "nbconvert_exporter": "python",
   "pygments_lexer": "ipython3",
   "version": "3.11.4"
  },
  "orig_nbformat": 4
 },
 "nbformat": 4,
 "nbformat_minor": 2
}
